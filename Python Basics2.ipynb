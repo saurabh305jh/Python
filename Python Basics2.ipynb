{
  "nbformat": 4,
  "nbformat_minor": 0,
  "metadata": {
    "colab": {
      "name": "Untitled2.ipynb",
      "provenance": [],
      "collapsed_sections": [],
      "authorship_tag": "ABX9TyMjMKZQMDhM2V1dbviPMBJ5",
      "include_colab_link": true
    },
    "kernelspec": {
      "name": "python3",
      "display_name": "Python 3"
    }
  },
  "cells": [
    {
      "cell_type": "markdown",
      "metadata": {
        "id": "view-in-github",
        "colab_type": "text"
      },
      "source": [
        "<a href=\"https://colab.research.google.com/github/saurabh305jh/Python/blob/master/Python%20Basics2.ipynb\" target=\"_parent\"><img src=\"https://colab.research.google.com/assets/colab-badge.svg\" alt=\"Open In Colab\"/></a>"
      ]
    },
    {
      "cell_type": "markdown",
      "metadata": {
        "id": "b8gTLHEjpiGX",
        "colab_type": "text"
      },
      "source": [
        "Create the below pattern using nested for loop in Python.\n"
      ]
    },
    {
      "cell_type": "code",
      "metadata": {
        "id": "VX2tU2bfmvOx",
        "colab_type": "code",
        "colab": {
          "base_uri": "https://localhost:8080/",
          "height": 357
        },
        "outputId": "0affd0d9-1510-4f8f-f722-ef754336eb1b"
      },
      "source": [
        "#Initializing the variable with value 10 \n",
        "num = 10\n",
        "\n",
        "#First for loop started to print from 0 .. 10 in the step of +1 \n",
        "for i in range(0,num,1):\n",
        "\n",
        "  print (\"*\"*i)\n",
        "\n",
        "#Second for loop started to print from 10 .. 0 in the step of -1 (reverse)\n",
        "for j in range(num,0,-1):\n",
        "\n",
        "  print (\"*\"*j)\n",
        "\n",
        "#Program ends "
      ],
      "execution_count": null,
      "outputs": [
        {
          "output_type": "stream",
          "text": [
            "\n",
            "*\n",
            "**\n",
            "***\n",
            "****\n",
            "*****\n",
            "******\n",
            "*******\n",
            "********\n",
            "*********\n",
            "**********\n",
            "*********\n",
            "********\n",
            "*******\n",
            "******\n",
            "*****\n",
            "****\n",
            "***\n",
            "**\n",
            "*\n"
          ],
          "name": "stdout"
        }
      ]
    },
    {
      "cell_type": "markdown",
      "metadata": {
        "id": "2Y7NVjmipxFN",
        "colab_type": "text"
      },
      "source": [
        "Write a Python program to reverse a word after accepting the input from the user."
      ]
    },
    {
      "cell_type": "code",
      "metadata": {
        "id": "oIFnOSv7p8BI",
        "colab_type": "code",
        "colab": {
          "base_uri": "https://localhost:8080/",
          "height": 51
        },
        "outputId": "70ada9a8-1185-438d-9977-57fbc74b94aa"
      },
      "source": [
        "value = str(input(\" Input String:\\t\"))\n",
        "\n",
        "result = value[::-1]\n",
        "\n",
        "print (\"Output String:\\t\",result)\n"
      ],
      "execution_count": null,
      "outputs": [
        {
          "output_type": "stream",
          "text": [
            " Input String:\tSaurabh\n",
            "Output String:\t hbaruaS\n"
          ],
          "name": "stdout"
        }
      ]
    }
  ]
}