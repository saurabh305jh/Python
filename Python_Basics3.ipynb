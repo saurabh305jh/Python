{
 "cells": [
  {
   "cell_type": "markdown",
   "metadata": {},
   "source": [
    "#Write a Python program to find the list in a list of lists whose sum of elements is th\n",
    "e highest"
   ]
  },
  {
   "cell_type": "code",
   "execution_count": 22,
   "metadata": {},
   "outputs": [],
   "source": [
    "list1 = [[1,2,3],[4,5,6],[7,8,9]]\n",
    "\n",
    "def findmax(list1):\n",
    "    maxx = 0\n",
    "    \n",
    "    for i in list1:\n",
    "        sum=0\n",
    "        \n",
    "        for j in i:\n",
    "            sum+=j\n",
    "        maxx = max(sum , maxx)\n",
    "    return maxx\n",
    "\n"
   ]
  },
  {
   "cell_type": "code",
   "execution_count": 23,
   "metadata": {},
   "outputs": [
    {
     "data": {
      "text/plain": [
       "24"
      ]
     },
     "execution_count": 23,
     "metadata": {},
     "output_type": "execute_result"
    }
   ],
   "source": [
    "findmax(list1)"
   ]
  },
  {
   "cell_type": "markdown",
   "metadata": {},
   "source": [
    "#Write a Python program to iterate over two lists simultaneously."
   ]
  },
  {
   "cell_type": "code",
   "execution_count": 36,
   "metadata": {},
   "outputs": [
    {
     "name": "stdout",
     "output_type": "stream",
     "text": [
      "1 6\n",
      "2 7\n",
      "3 8\n",
      "4 9\n"
     ]
    }
   ],
   "source": [
    "list1 = [1,2,3,4,5]\n",
    "list2 = [6,7,8,9]\n",
    "\n",
    "for (i,j) in zip(list1,list2):\n",
    "    print (i,j)"
   ]
  },
  {
   "cell_type": "markdown",
   "metadata": {},
   "source": [
    "#write a program to inser a string at the begining of every elements in a list"
   ]
  },
  {
   "cell_type": "code",
   "execution_count": 42,
   "metadata": {},
   "outputs": [
    {
     "name": "stdout",
     "output_type": "stream",
     "text": [
      "1A\n",
      "2A\n",
      "3A\n",
      "4A\n",
      "5A\n"
     ]
    }
   ],
   "source": [
    "list1 = [1,2,3,4,5]\n",
    "for i in list1:\n",
    "    print (str(i) + 'A')"
   ]
  },
  {
   "cell_type": "markdown",
   "metadata": {},
   "source": [
    "###### write a program to take two lists and print if they have at least one common member"
   ]
  },
  {
   "cell_type": "code",
   "execution_count": 45,
   "metadata": {},
   "outputs": [
    {
     "name": "stdout",
     "output_type": "stream",
     "text": [
      "1 6\n",
      "2 7\n",
      "3 8\n",
      "4 9\n",
      "5 5\n"
     ]
    }
   ],
   "source": [
    "list1 = [1,2,3,4,5]\n",
    "list2 = [6,7,8,9,5]\n",
    "for (i,j) in zip(list1,list2):\n",
    "    print (i,j)"
   ]
  },
  {
   "cell_type": "markdown",
   "metadata": {},
   "source": [
    "##### write a program to take two lists and print if they have at least one common member"
   ]
  },
  {
   "cell_type": "code",
   "execution_count": 15,
   "metadata": {},
   "outputs": [
    {
     "name": "stdout",
     "output_type": "stream",
     "text": [
      "Here comes the uncommon values \n",
      " 1 9\n",
      "Here comes the uncommon values \n",
      " 1 8\n",
      "Here comes the uncommon values \n",
      " 1 7\n",
      "Here comes the uncommon values \n",
      " 1 6\n",
      "Here comes the uncommon values \n",
      " 1 0\n",
      "Here comes the uncommon values \n",
      " 2 9\n",
      "Here comes the uncommon values \n",
      " 2 8\n",
      "Here comes the uncommon values \n",
      " 2 7\n",
      "Here comes the uncommon values \n",
      " 2 6\n",
      "Here comes the uncommon values \n",
      " 2 0\n",
      "Here comes the uncommon values \n",
      " 3 9\n",
      "Here comes the uncommon values \n",
      " 3 8\n",
      "Here comes the uncommon values \n",
      " 3 7\n",
      "Here comes the uncommon values \n",
      " 3 6\n",
      "Here comes the uncommon values \n",
      " 3 0\n",
      "Here comes the uncommon values \n",
      " 4 9\n",
      "Here comes the uncommon values \n",
      " 4 8\n",
      "Here comes the uncommon values \n",
      " 4 7\n",
      "Here comes the uncommon values \n",
      " 4 6\n",
      "Here comes the uncommon values \n",
      " 4 0\n",
      "Here comes the uncommon values \n",
      " 5 9\n",
      "Here comes the uncommon values \n",
      " 5 8\n",
      "Here comes the uncommon values \n",
      " 5 7\n",
      "Here comes the uncommon values \n",
      " 5 6\n",
      "Here comes the uncommon values \n",
      " 5 0\n",
      "Here comes the uncommon values \n",
      " 6 9\n",
      "Here comes the uncommon values \n",
      " 6 8\n",
      "Here comes the uncommon values \n",
      " 6 7\n",
      "Here are the Common values\n",
      " 6 6\n",
      "Here comes the uncommon values \n",
      " 6 0\n"
     ]
    }
   ],
   "source": [
    "list1 = [1,2,3,4,5,6]\n",
    "list2 = [9,8,7,6,0]\n",
    "for i in list1:\n",
    "    for j in list2:\n",
    "        if i==j:\n",
    "            print (\"Here are the Common values\\n\",i,j)\n",
    "        else:\n",
    "            print (\"Here comes the uncommon values \\n\",i,j)"
   ]
  }
 ],
 "metadata": {
  "kernelspec": {
   "display_name": "Python 3",
   "language": "python",
   "name": "python3"
  },
  "language_info": {
   "codemirror_mode": {
    "name": "ipython",
    "version": 3
   },
   "file_extension": ".py",
   "mimetype": "text/x-python",
   "name": "python",
   "nbconvert_exporter": "python",
   "pygments_lexer": "ipython3",
   "version": "3.8.3"
  }
 },
 "nbformat": 4,
 "nbformat_minor": 4
}
