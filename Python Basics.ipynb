{
  "nbformat": 4,
  "nbformat_minor": 0,
  "metadata": {
    "colab": {
      "name": "Untitled1.ipynb",
      "provenance": [],
      "collapsed_sections": [],
      "authorship_tag": "ABX9TyMJH0O0m552nZfR5Ixs0kWx",
      "include_colab_link": true
    },
    "kernelspec": {
      "name": "python3",
      "display_name": "Python 3"
    }
  },
  "cells": [
    {
      "cell_type": "markdown",
      "metadata": {
        "id": "view-in-github",
        "colab_type": "text"
      },
      "source": [
        "<a href=\"https://colab.research.google.com/github/saurabh305jh/Python/blob/master/Python%20Basics.ipynb\" target=\"_parent\"><img src=\"https://colab.research.google.com/assets/colab-badge.svg\" alt=\"Open In Colab\"/></a>"
      ]
    },
    {
      "cell_type": "markdown",
      "metadata": {
        "id": "fIV18EJXx4KF",
        "colab_type": "text"
      },
      "source": [
        "1. Write a program which will find all such numbers which are divisible by 7 but are not a multiple of 5, between 2000 and 3200 (both included). The numbers obtained should be printed in a comma-separated sequence on a single line. \n"
      ]
    },
    {
      "cell_type": "code",
      "metadata": {
        "id": "3dDJJ2W7x91d",
        "colab_type": "code",
        "colab": {
          "base_uri": "https://localhost:8080/",
          "height": 54
        },
        "outputId": "4f9eb698-26b8-48e3-ca64-5d2e6294b3d9"
      },
      "source": [
        "#Initializing the variable init_0 \n",
        "init_0=[]\n",
        "#Variables assignment \n",
        "numb_1=7\n",
        "numb_2=5\n",
        "#Logic starts below \n",
        "for var in range(2000,3200):\n",
        "    if(var%numb_1==0) and (var%numb_2==0):\n",
        "        init_0.append(str(var))\n",
        "print(','.join(init_0))"
      ],
      "execution_count": null,
      "outputs": [
        {
          "output_type": "stream",
          "text": [
            "2030,2065,2100,2135,2170,2205,2240,2275,2310,2345,2380,2415,2450,2485,2520,2555,2590,2625,2660,2695,2730,2765,2800,2835,2870,2905,2940,2975,3010,3045,3080,3115,3150,3185\n"
          ],
          "name": "stdout"
        }
      ]
    },
    {
      "cell_type": "markdown",
      "metadata": {
        "id": "k5J4aOmDzaRQ",
        "colab_type": "text"
      },
      "source": [
        "2. Write a Python program to accept the user's first and last name and then getting them printed in the the reverse order with a space between first name and last name."
      ]
    },
    {
      "cell_type": "code",
      "metadata": {
        "id": "sZOuaqqizcFN",
        "colab_type": "code",
        "colab": {
          "base_uri": "https://localhost:8080/",
          "height": 68
        },
        "outputId": "88e664ab-ee1f-4024-c3c8-fb3ebde20e75"
      },
      "source": [
        "#Variable input prompt \n",
        "var1 = input(\"Please enter your first name\")\n",
        "var2 = input(\"Please enter your last name\")\n",
        "var3 = var2+' '+var1\n",
        "#Final result print in reverse order\n",
        "print (var3)"
      ],
      "execution_count": null,
      "outputs": [
        {
          "output_type": "stream",
          "text": [
            "Please enter your first name Saurabh\n",
            "Please enter your last name Tripathi\n",
            " Tripathi  Saurabh\n"
          ],
          "name": "stdout"
        }
      ]
    },
    {
      "cell_type": "markdown",
      "metadata": {
        "id": "_R9ijcnj0vJM",
        "colab_type": "text"
      },
      "source": [
        "3. Write a Python program to find the volume of a sphere with diameter 12 cm. \n",
        "Formula: V=4/3 * π * r 3 "
      ]
    },
    {
      "cell_type": "code",
      "metadata": {
        "id": "MvTKjMC40zbp",
        "colab_type": "code",
        "colab": {
          "base_uri": "https://localhost:8080/",
          "height": 34
        },
        "outputId": "0587e980-1536-4f65-b0ad-a034e04dad60"
      },
      "source": [
        "#Diameter given = 12cm\n",
        "#Note to get the radius , diameter/2 \n",
        "\n",
        "#Variable assignment below\n",
        "pi=3.14\n",
        "radius = 12/2\n",
        "#Volumme calculation\n",
        "volume = 4/3*pi*radius**3\n",
        "#Final result \n",
        "print(volume)"
      ],
      "execution_count": null,
      "outputs": [
        {
          "output_type": "stream",
          "text": [
            "904.3199999999999\n"
          ],
          "name": "stdout"
        }
      ]
    }
  ]
}